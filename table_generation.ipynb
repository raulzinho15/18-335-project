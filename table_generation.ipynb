{
 "cells": [
  {
   "cell_type": "code",
   "execution_count": null,
   "id": "4ec71fa8",
   "metadata": {},
   "outputs": [],
   "source": [
    "# Prepares all the matrix sizes to be used\n",
    "\n",
    "all_sizes = []\n",
    "sizes = [2**i for i in range(1,10)] + [980, 990, 1000, 1010, 1024]\n",
    "\n",
    "for m in sizes:\n",
    "    all_sizes.append((m, m, m))\n",
    "\n",
    "sizes = [8, 48, 128]\n",
    "for m in sizes:\n",
    "    for n in sizes[sizes.index(m):]:\n",
    "        for p in sizes[sizes.index(n):]:\n",
    "            if m == n == p == 8 or m == n == p == 128:\n",
    "                continue\n",
    "            all_sizes.append((m,n,p))"
   ]
  },
  {
   "cell_type": "code",
   "execution_count": null,
   "id": "0bda9e11",
   "metadata": {},
   "outputs": [],
   "source": [
    "# Naive Matrix Multiplication\n",
    "for m,n,p in all_sizes:\n",
    "\n",
    "    f_add_naive = m*p*(n-1)\n",
    "    f_sub_naive = 0\n",
    "    f_mul_naive = m*p*n\n",
    "    f_write_naive = 0\n",
    "    f_read_naive = 0\n",
    "    print(f\"{m} & {n} & {p} & {f_add_naive+f_sub_naive} & {f_mul_naive} & {f_read_naive} & {f_write_naive} \\\\\\\\\")"
   ]
  },
  {
   "cell_type": "code",
   "execution_count": null,
   "id": "7d1e26ad",
   "metadata": {},
   "outputs": [],
   "source": [
    "# Strassen's Algorithm\n",
    "for m,n,p in all_sizes:\n",
    "\n",
    "    x = (max(m,n,p)-1).bit_length()\n",
    "    f_add_strass = 12 * (7**x - 1) // 6\n",
    "    f_sub_strass = 6 * (7**x - 1) // 6\n",
    "    f_mul_strass = 7**x\n",
    "    f_write_strass = 5 * (7**x - 1) // 6\n",
    "    f_read_strass = 10 * (7**x - 1) // 6\n",
    "    print(f\"{m} & {n} & {p} & {x} & {f_add_strass+f_sub_strass} & {f_mul_strass} & {f_read_strass} & {f_write_strass} \\\\\\\\\")"
   ]
  },
  {
   "cell_type": "code",
   "execution_count": null,
   "id": "ac429aa0",
   "metadata": {},
   "outputs": [],
   "source": [
    "# Winograd's Variant\n",
    "for m,n,p in all_sizes:\n",
    "\n",
    "    f_add_wino = 7 * (7**x - 1) // 6\n",
    "    f_sub_wino = 8 * (7**x - 1) // 6\n",
    "    f_mul_wino = 7**x\n",
    "    f_write_wino = 8 * (7**x - 1) // 6\n",
    "    f_read_wino = 16 * (7**x - 1) // 6\n",
    "    print(f\"{m} & {n} & {p} & {x} & {f_add_wino+f_sub_wino} & {f_mul_wino} & {f_read_wino} & {f_write_wino} \\\\\\\\\")"
   ]
  },
  {
   "cell_type": "code",
   "execution_count": null,
   "id": "5e719942",
   "metadata": {},
   "outputs": [],
   "source": [
    "# Multiplication Table\n",
    "for m,n,p in all_sizes:\n",
    "    print(f\"{m} & {n} & {p} & {f_mul_naive} & {f_mul_strass} & {f_mul_wino} \\\\\\\\\")"
   ]
  },
  {
   "cell_type": "code",
   "execution_count": null,
   "id": "963a13d3",
   "metadata": {},
   "outputs": [],
   "source": [
    "# Addition/Subtraction Table\n",
    "for m,n,p in all_sizes:\n",
    "    print(f\"{m} & {n} & {p} & {f_add_naive+f_sub_naive} & {f_add_strass+f_sub_strass} & {f_add_wino+f_sub_wino} \\\\\\\\\")"
   ]
  },
  {
   "cell_type": "code",
   "execution_count": null,
   "id": "af5ec53c",
   "metadata": {},
   "outputs": [],
   "source": [
    "# Memory Table\n",
    "for m,n,p in all_sizes:\n",
    "    print(f\"{m} & {n} & {p} & {f_read_naive+f_write_naive} & {f_read_strass+f_write_strass} & {f_read_wino+f_write_wino} \\\\\\\\\")"
   ]
  }
 ],
 "metadata": {
  "language_info": {
   "name": "python"
  }
 },
 "nbformat": 4,
 "nbformat_minor": 5
}
